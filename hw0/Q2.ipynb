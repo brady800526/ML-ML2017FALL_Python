{
 "cells": [
  {
   "cell_type": "code",
   "execution_count": 15,
   "metadata": {},
   "outputs": [],
   "source": [
    "from PIL import Image\n",
    "from math import floor\n",
    "import sys\n",
    "img = Image.open(sys.argv[1]) # Or directly input the filename\n",
    "\n",
    "# Suppress specific bands (e.g. (255, 120, 65) -> (0, 120, 0) for g)\n",
    "output_img_data = [(floor(d[0]/2), floor(d[1]/2), floor(d[2]/2)) for d in data]\n",
    "\n",
    "img.putdata(output_img_data)\n",
    "img.save('Q2.jpg')"
   ]
  },
  {
   "cell_type": "code",
   "execution_count": null,
   "metadata": {},
   "outputs": [],
   "source": []
  }
 ],
 "metadata": {
  "kernelspec": {
   "display_name": "Python 3",
   "language": "python",
   "name": "python3"
  },
  "language_info": {
   "codemirror_mode": {
    "name": "ipython",
    "version": 3
   },
   "file_extension": ".py",
   "mimetype": "text/x-python",
   "name": "python",
   "nbconvert_exporter": "python",
   "pygments_lexer": "ipython3",
   "version": "3.7.0"
  }
 },
 "nbformat": 4,
 "nbformat_minor": 2
}
